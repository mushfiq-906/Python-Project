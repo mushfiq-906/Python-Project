{
 "cells": [
  {
   "cell_type": "code",
   "execution_count": 1,
   "metadata": {},
   "outputs": [],
   "source": [
    "from IPython.display import clear_output\n",
    "def display_board(board):\n",
    "    clear_output()\n",
    "    print(board[7]+\" | \"+board[8]+\" | \"+board[9])\n",
    "    print('--|---|--')\n",
    "    print(board[4]+\" | \"+board[5]+\" | \"+board[6])\n",
    "    print('--|---|--')\n",
    "    print(board[1]+\" | \"+board[2]+\" | \"+board[3])"
   ]
  },
  {
   "cell_type": "code",
   "execution_count": 2,
   "metadata": {},
   "outputs": [
    {
     "name": "stdout",
     "output_type": "stream",
     "text": [
      "X | O | X\n",
      "--|---|--\n",
      "O | X | O\n",
      "--|---|--\n",
      "X | O | X\n"
     ]
    }
   ],
   "source": [
    "board=['#','X','O','X','O','X','O','X','O','X']\n",
    "#board=[' ']*10\n",
    "display_board(board)"
   ]
  },
  {
   "cell_type": "code",
   "execution_count": 3,
   "metadata": {},
   "outputs": [],
   "source": [
    "def player_input():\n",
    "    player1 = 'Z'\n",
    "    while player1 not in ['X','O']:\n",
    "        player1 = input('Player 1, Start with X or O: ').upper()\n",
    "        \n",
    "        if player1 not in ['X','O']:\n",
    "            print('Wrong choice! Try again!')\n",
    "    \n",
    "    if player1 == 'X':\n",
    "        player2 = 'O'\n",
    "    else:\n",
    "        player2 = 'X'\n",
    "    return player1,player2"
   ]
  },
  {
   "cell_type": "code",
   "execution_count": 4,
   "metadata": {},
   "outputs": [
    {
     "name": "stdout",
     "output_type": "stream",
     "text": [
      "Player 1, Start with X or O: X\n"
     ]
    }
   ],
   "source": [
    "p1,p2 = player_input()"
   ]
  },
  {
   "cell_type": "code",
   "execution_count": 5,
   "metadata": {},
   "outputs": [],
   "source": [
    "from IPython.display import clear_output"
   ]
  },
  {
   "cell_type": "code",
   "execution_count": 6,
   "metadata": {},
   "outputs": [
    {
     "data": {
      "text/plain": [
       "'O'"
      ]
     },
     "execution_count": 6,
     "metadata": {},
     "output_type": "execute_result"
    }
   ],
   "source": [
    "p2"
   ]
  },
  {
   "cell_type": "code",
   "execution_count": 7,
   "metadata": {},
   "outputs": [],
   "source": [
    "def player_choice():\n",
    "    choice = 'Wrong'\n",
    "    within_range = False\n",
    "    \n",
    "    while choice.isdigit()==False or within_range==False:\n",
    "            \n",
    "            choice = input('Please Enter the position(1-9): ')\n",
    "            \n",
    "            if choice.isdigit()==False:\n",
    "                print('Sorry that is not a digit!')\n",
    "            \n",
    "            if choice.isdigit()==True:\n",
    "                if int(choice) in range(1,10):\n",
    "                    within_range = True\n",
    "                else:\n",
    "                    within_range = False\n",
    "                    print(\"Out of Range...please enter again!\")\n",
    "                    \n",
    "    return int(choice)"
   ]
  },
  {
   "cell_type": "code",
   "execution_count": 8,
   "metadata": {},
   "outputs": [
    {
     "name": "stdout",
     "output_type": "stream",
     "text": [
      "Please Enter the position(1-9): 2\n"
     ]
    },
    {
     "data": {
      "text/plain": [
       "2"
      ]
     },
     "execution_count": 8,
     "metadata": {},
     "output_type": "execute_result"
    }
   ],
   "source": [
    "player_choice()"
   ]
  },
  {
   "cell_type": "code",
   "execution_count": 9,
   "metadata": {},
   "outputs": [],
   "source": [
    "def place_marker(board,marker,position):\n",
    "    board[position]=marker\n",
    "    return board"
   ]
  },
  {
   "cell_type": "code",
   "execution_count": 10,
   "metadata": {},
   "outputs": [],
   "source": [
    "def gameon_choice():\n",
    "    choice = 'Wrong'\n",
    "    while choice not in ['Y','N']:\n",
    "        choice = input(\"Want to play again? Y or N: \")\n",
    "        \n",
    "        if choice not in ['Y','N']:\n",
    "            clear_output\n",
    "            print(\"Sorry I don't understand. Please make sure to choose Y or N\")\n",
    "    if choice == 'Y':\n",
    "        return True\n",
    "    else:\n",
    "        return False"
   ]
  },
  {
   "cell_type": "code",
   "execution_count": 11,
   "metadata": {},
   "outputs": [
    {
     "name": "stdout",
     "output_type": "stream",
     "text": [
      "Want to play again? Y or N: N\n"
     ]
    },
    {
     "data": {
      "text/plain": [
       "False"
      ]
     },
     "execution_count": 11,
     "metadata": {},
     "output_type": "execute_result"
    }
   ],
   "source": [
    "gameon_choice()"
   ]
  },
  {
   "cell_type": "code",
   "execution_count": 12,
   "metadata": {},
   "outputs": [],
   "source": [
    "def win_check(board,marker):\n",
    "    if board[1]==board[2]==board[3]==marker or board[7]==board[4]==board[1]==marker:\n",
    "        return True\n",
    "    if board[7]==board[8]==board[9]==marker or board[9]==board[6]==board[3]==marker or board[4]==board[5]==board[6]==marker:\n",
    "        return True\n",
    "    if board[7]==board[5]==board[3]==marker or board[1]==board[5]==board[9]==marker:\n",
    "        return True\n",
    "    else:\n",
    "        return False"
   ]
  },
  {
   "cell_type": "code",
   "execution_count": 13,
   "metadata": {},
   "outputs": [],
   "source": [
    "def space_check(board,position):\n",
    "    return board[position] == ' '"
   ]
  },
  {
   "cell_type": "code",
   "execution_count": 14,
   "metadata": {},
   "outputs": [],
   "source": [
    "def full_board_check(board):\n",
    "    if ' ' in board[1:]:\n",
    "        return False\n",
    "    else:\n",
    "        return True"
   ]
  },
  {
   "cell_type": "code",
   "execution_count": 15,
   "metadata": {},
   "outputs": [
    {
     "data": {
      "text/plain": [
       "True"
      ]
     },
     "execution_count": 15,
     "metadata": {},
     "output_type": "execute_result"
    }
   ],
   "source": [
    "full_board_check(board)"
   ]
  },
  {
   "cell_type": "code",
   "execution_count": 16,
   "metadata": {},
   "outputs": [],
   "source": [
    "import random\n",
    "def choose_first():\n",
    "    player = random.randint(1,2)\n",
    "    print(f'Player{player} plays first')\n",
    "    return player"
   ]
  },
  {
   "cell_type": "code",
   "execution_count": 17,
   "metadata": {},
   "outputs": [
    {
     "name": "stdout",
     "output_type": "stream",
     "text": [
      "Player2 plays first\n"
     ]
    },
    {
     "data": {
      "text/plain": [
       "2"
      ]
     },
     "execution_count": 17,
     "metadata": {},
     "output_type": "execute_result"
    }
   ],
   "source": [
    "choose_first()"
   ]
  },
  {
   "cell_type": "code",
   "execution_count": null,
   "metadata": {},
   "outputs": [
    {
     "name": "stdout",
     "output_type": "stream",
     "text": [
      "X | O | O\n",
      "--|---|--\n",
      "X | O | X\n",
      "--|---|--\n",
      "O | X | O\n",
      "Congrats! player 2 wins the match\n"
     ]
    }
   ],
   "source": [
    "print(\"Welcome to Tic Tac Toe!\")\n",
    "game = True\n",
    "\n",
    "while game:\n",
    "    board =[' ']*10\n",
    "    player1,player2 = player_input()\n",
    "    start = choose_first()\n",
    "    found = False\n",
    "    \n",
    "    while full_board_check(board)==False:\n",
    "        if start == 1:\n",
    "            position1 = player_choice()\n",
    "            while space_check(board,position1) != True:\n",
    "                print('Invalid choice, Try again!!')\n",
    "                position1 = player_choice()\n",
    "            board = place_marker(board,player1,position1)\n",
    "            display_board(board)\n",
    "\n",
    "            if win_check(board,player1):\n",
    "                print('Congrats! player 1 wins the match')\n",
    "                found  = True\n",
    "                break\n",
    "            \n",
    "            if full_board_check(board)==True:\n",
    "                break\n",
    "\n",
    "            position2 = player_choice()\n",
    "            while space_check(board,position2)!=True:\n",
    "                print('Invalid choice, Try again!!')\n",
    "                position2 = player_choice()\n",
    "            board = place_marker(board,player2,position2)\n",
    "            display_board(board)\n",
    "            if win_check(board,player2):\n",
    "                print('Congrats! player 2 wins the match')\n",
    "                found  = True\n",
    "                break\n",
    "\n",
    "        else:\n",
    "            position2 = player_choice()\n",
    "            while space_check(board,position2)!=True:\n",
    "                print('Invalid choice, Try again!!')\n",
    "                position2 = player_choice()\n",
    "            board = place_marker(board,player2,position2)\n",
    "            display_board(board)\n",
    "            if win_check(board,player2):\n",
    "                print('Congrats! player 2 wins the match')\n",
    "                found  = True\n",
    "                break\n",
    "            \n",
    "            if full_board_check(board)==True:\n",
    "                break\n",
    "            \n",
    "            position1 = player_choice()\n",
    "            while space_check(board,position1)!=True:\n",
    "                print('Invalid choice, Try again!!')\n",
    "                position1 = player_choice()\n",
    "            board = place_marker(board,player1,position1)\n",
    "            display_board(board)\n",
    "\n",
    "            if win_check(board,player1):\n",
    "                print('Congrats! player 1 wins the match')\n",
    "                found  = True\n",
    "                break\n",
    "\n",
    "    if full_board_check(board)==True and found==False:\n",
    "        print(\"Draw!!!\")\n",
    "    game = gameon_choice()"
   ]
  },
  {
   "cell_type": "code",
   "execution_count": null,
   "metadata": {},
   "outputs": [],
   "source": []
  }
 ],
 "metadata": {
  "kernelspec": {
   "display_name": "Python 3",
   "language": "python",
   "name": "python3"
  },
  "language_info": {
   "codemirror_mode": {
    "name": "ipython",
    "version": 3
   },
   "file_extension": ".py",
   "mimetype": "text/x-python",
   "name": "python",
   "nbconvert_exporter": "python",
   "pygments_lexer": "ipython3",
   "version": "3.8.5"
  }
 },
 "nbformat": 4,
 "nbformat_minor": 4
}
